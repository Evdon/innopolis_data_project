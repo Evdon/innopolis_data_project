{
 "cells": [
  {
   "cell_type": "code",
   "execution_count": 20,
   "id": "876fce93-eb32-46f7-8cfe-0c9910df8fb2",
   "metadata": {},
   "outputs": [],
   "source": [
    "import pandas as pd\n",
    "import matplotlib.pyplot as plt"
   ]
  },
  {
   "cell_type": "code",
   "execution_count": 11,
   "id": "e711bd20-c101-47f6-afbf-5db24bc02340",
   "metadata": {},
   "outputs": [],
   "source": [
    "data = pd.read_csv('machine_3.csv')"
   ]
  },
  {
   "cell_type": "code",
   "execution_count": 32,
   "id": "b4a248b4-57a2-4aa8-b517-087f3251f120",
   "metadata": {},
   "outputs": [
    {
     "data": {
      "text/html": [
       "<div>\n",
       "<style scoped>\n",
       "    .dataframe tbody tr th:only-of-type {\n",
       "        vertical-align: middle;\n",
       "    }\n",
       "\n",
       "    .dataframe tbody tr th {\n",
       "        vertical-align: top;\n",
       "    }\n",
       "\n",
       "    .dataframe thead th {\n",
       "        text-align: right;\n",
       "    }\n",
       "</style>\n",
       "<table border=\"1\" class=\"dataframe\">\n",
       "  <thead>\n",
       "    <tr style=\"text-align: right;\">\n",
       "      <th></th>\n",
       "      <th>id</th>\n",
       "      <th>core_cur_work_time</th>\n",
       "      <th>ch_tot_work_time</th>\n",
       "      <th>ch_status</th>\n",
       "      <th>ch_mode</th>\n",
       "      <th>progr_progress</th>\n",
       "      <th>prog</th>\n",
       "      <th>has_error</th>\n",
       "      <th>timestamp</th>\n",
       "    </tr>\n",
       "  </thead>\n",
       "  <tbody>\n",
       "    <tr>\n",
       "      <th>0</th>\n",
       "      <td>47</td>\n",
       "      <td>148:28:26</td>\n",
       "      <td>332:0:5</td>\n",
       "      <td>Работа</td>\n",
       "      <td>Авто</td>\n",
       "      <td>32</td>\n",
       "      <td>/NC/examples/08_01.nc</td>\n",
       "      <td>0</td>\n",
       "      <td>2023-11-21 22:41:13</td>\n",
       "    </tr>\n",
       "    <tr>\n",
       "      <th>1</th>\n",
       "      <td>48</td>\n",
       "      <td>148:28:29</td>\n",
       "      <td>332:0:8</td>\n",
       "      <td>Работа</td>\n",
       "      <td>Авто</td>\n",
       "      <td>47</td>\n",
       "      <td>/NC/examples/08_01.nc</td>\n",
       "      <td>0</td>\n",
       "      <td>2023-11-21 22:41:16</td>\n",
       "    </tr>\n",
       "    <tr>\n",
       "      <th>2</th>\n",
       "      <td>49</td>\n",
       "      <td>148:28:31</td>\n",
       "      <td>332:0:10</td>\n",
       "      <td>Работа</td>\n",
       "      <td>Авто</td>\n",
       "      <td>47</td>\n",
       "      <td>/NC/examples/08_01.nc</td>\n",
       "      <td>0</td>\n",
       "      <td>2023-11-21 22:41:19</td>\n",
       "    </tr>\n",
       "    <tr>\n",
       "      <th>3</th>\n",
       "      <td>50</td>\n",
       "      <td>148:28:35</td>\n",
       "      <td>332:0:14</td>\n",
       "      <td>Работа</td>\n",
       "      <td>Авто</td>\n",
       "      <td>47</td>\n",
       "      <td>/NC/examples/08_01.nc</td>\n",
       "      <td>0</td>\n",
       "      <td>2023-11-21 22:41:22</td>\n",
       "    </tr>\n",
       "    <tr>\n",
       "      <th>4</th>\n",
       "      <td>51</td>\n",
       "      <td>148:28:38</td>\n",
       "      <td>332:0:17</td>\n",
       "      <td>Работа</td>\n",
       "      <td>Авто</td>\n",
       "      <td>47</td>\n",
       "      <td>/NC/examples/08_01.nc</td>\n",
       "      <td>0</td>\n",
       "      <td>2023-11-21 22:41:25</td>\n",
       "    </tr>\n",
       "    <tr>\n",
       "      <th>...</th>\n",
       "      <td>...</td>\n",
       "      <td>...</td>\n",
       "      <td>...</td>\n",
       "      <td>...</td>\n",
       "      <td>...</td>\n",
       "      <td>...</td>\n",
       "      <td>...</td>\n",
       "      <td>...</td>\n",
       "      <td>...</td>\n",
       "    </tr>\n",
       "    <tr>\n",
       "      <th>7492</th>\n",
       "      <td>7539</td>\n",
       "      <td>154:55:1</td>\n",
       "      <td>337:19:14</td>\n",
       "      <td>Работа</td>\n",
       "      <td>Авто</td>\n",
       "      <td>99</td>\n",
       "      <td>/NC/examples/06_07.nc</td>\n",
       "      <td>0</td>\n",
       "      <td>2023-11-22 05:07:48</td>\n",
       "    </tr>\n",
       "    <tr>\n",
       "      <th>7493</th>\n",
       "      <td>7540</td>\n",
       "      <td>154:55:4</td>\n",
       "      <td>337:19:14</td>\n",
       "      <td>Останов</td>\n",
       "      <td>Авто</td>\n",
       "      <td>100</td>\n",
       "      <td>NaN</td>\n",
       "      <td>0</td>\n",
       "      <td>2023-11-22 05:07:51</td>\n",
       "    </tr>\n",
       "    <tr>\n",
       "      <th>7494</th>\n",
       "      <td>7541</td>\n",
       "      <td>154:55:7</td>\n",
       "      <td>337:19:14</td>\n",
       "      <td>Останов</td>\n",
       "      <td>Авто</td>\n",
       "      <td>100</td>\n",
       "      <td>NaN</td>\n",
       "      <td>0</td>\n",
       "      <td>2023-11-22 05:07:54</td>\n",
       "    </tr>\n",
       "    <tr>\n",
       "      <th>7495</th>\n",
       "      <td>7542</td>\n",
       "      <td>154:55:10</td>\n",
       "      <td>337:19:14</td>\n",
       "      <td>Останов</td>\n",
       "      <td>Авто</td>\n",
       "      <td>100</td>\n",
       "      <td>NaN</td>\n",
       "      <td>0</td>\n",
       "      <td>2023-11-22 05:07:57</td>\n",
       "    </tr>\n",
       "    <tr>\n",
       "      <th>7496</th>\n",
       "      <td>7543</td>\n",
       "      <td>154:55:10</td>\n",
       "      <td>337:19:14</td>\n",
       "      <td>Останов</td>\n",
       "      <td>Авто</td>\n",
       "      <td>100</td>\n",
       "      <td>NaN</td>\n",
       "      <td>0</td>\n",
       "      <td>2023-11-22 05:08:00</td>\n",
       "    </tr>\n",
       "  </tbody>\n",
       "</table>\n",
       "<p>7497 rows × 9 columns</p>\n",
       "</div>"
      ],
      "text/plain": [
       "        id core_cur_work_time ch_tot_work_time ch_status ch_mode  \\\n",
       "0       47          148:28:26          332:0:5    Работа    Авто   \n",
       "1       48          148:28:29          332:0:8    Работа    Авто   \n",
       "2       49          148:28:31         332:0:10    Работа    Авто   \n",
       "3       50          148:28:35         332:0:14    Работа    Авто   \n",
       "4       51          148:28:38         332:0:17    Работа    Авто   \n",
       "...    ...                ...              ...       ...     ...   \n",
       "7492  7539           154:55:1        337:19:14    Работа    Авто   \n",
       "7493  7540           154:55:4        337:19:14   Останов    Авто   \n",
       "7494  7541           154:55:7        337:19:14   Останов    Авто   \n",
       "7495  7542          154:55:10        337:19:14   Останов    Авто   \n",
       "7496  7543          154:55:10        337:19:14   Останов    Авто   \n",
       "\n",
       "      progr_progress                   prog  has_error            timestamp  \n",
       "0                 32  /NC/examples/08_01.nc          0  2023-11-21 22:41:13  \n",
       "1                 47  /NC/examples/08_01.nc          0  2023-11-21 22:41:16  \n",
       "2                 47  /NC/examples/08_01.nc          0  2023-11-21 22:41:19  \n",
       "3                 47  /NC/examples/08_01.nc          0  2023-11-21 22:41:22  \n",
       "4                 47  /NC/examples/08_01.nc          0  2023-11-21 22:41:25  \n",
       "...              ...                    ...        ...                  ...  \n",
       "7492              99  /NC/examples/06_07.nc          0  2023-11-22 05:07:48  \n",
       "7493             100                    NaN          0  2023-11-22 05:07:51  \n",
       "7494             100                    NaN          0  2023-11-22 05:07:54  \n",
       "7495             100                    NaN          0  2023-11-22 05:07:57  \n",
       "7496             100                    NaN          0  2023-11-22 05:08:00  \n",
       "\n",
       "[7497 rows x 9 columns]"
      ]
     },
     "execution_count": 32,
     "metadata": {},
     "output_type": "execute_result"
    }
   ],
   "source": [
    "data"
   ]
  },
  {
   "cell_type": "code",
   "execution_count": 37,
   "id": "ee259a47-80a7-4bf5-bef1-8efb9d32faf3",
   "metadata": {},
   "outputs": [],
   "source": [
    "df = data.drop(['id','timestamp'], axis=1)"
   ]
  },
  {
   "cell_type": "code",
   "execution_count": 40,
   "id": "b238c714-6267-4f9d-a9ea-efc3225d1901",
   "metadata": {},
   "outputs": [],
   "source": [
    "df = df.drop_duplicates()"
   ]
  },
  {
   "cell_type": "code",
   "execution_count": 41,
   "id": "4964ab5a-2201-4319-a2b6-b0b53eed8dec",
   "metadata": {},
   "outputs": [
    {
     "data": {
      "text/html": [
       "<div>\n",
       "<style scoped>\n",
       "    .dataframe tbody tr th:only-of-type {\n",
       "        vertical-align: middle;\n",
       "    }\n",
       "\n",
       "    .dataframe tbody tr th {\n",
       "        vertical-align: top;\n",
       "    }\n",
       "\n",
       "    .dataframe thead th {\n",
       "        text-align: right;\n",
       "    }\n",
       "</style>\n",
       "<table border=\"1\" class=\"dataframe\">\n",
       "  <thead>\n",
       "    <tr style=\"text-align: right;\">\n",
       "      <th></th>\n",
       "      <th>core_cur_work_time</th>\n",
       "      <th>ch_tot_work_time</th>\n",
       "      <th>ch_status</th>\n",
       "      <th>ch_mode</th>\n",
       "      <th>progr_progress</th>\n",
       "      <th>prog</th>\n",
       "      <th>has_error</th>\n",
       "    </tr>\n",
       "  </thead>\n",
       "  <tbody>\n",
       "    <tr>\n",
       "      <th>0</th>\n",
       "      <td>148:28:26</td>\n",
       "      <td>332:0:5</td>\n",
       "      <td>Работа</td>\n",
       "      <td>Авто</td>\n",
       "      <td>32</td>\n",
       "      <td>/NC/examples/08_01.nc</td>\n",
       "      <td>0</td>\n",
       "    </tr>\n",
       "    <tr>\n",
       "      <th>1</th>\n",
       "      <td>148:28:29</td>\n",
       "      <td>332:0:8</td>\n",
       "      <td>Работа</td>\n",
       "      <td>Авто</td>\n",
       "      <td>47</td>\n",
       "      <td>/NC/examples/08_01.nc</td>\n",
       "      <td>0</td>\n",
       "    </tr>\n",
       "    <tr>\n",
       "      <th>2</th>\n",
       "      <td>148:28:31</td>\n",
       "      <td>332:0:10</td>\n",
       "      <td>Работа</td>\n",
       "      <td>Авто</td>\n",
       "      <td>47</td>\n",
       "      <td>/NC/examples/08_01.nc</td>\n",
       "      <td>0</td>\n",
       "    </tr>\n",
       "    <tr>\n",
       "      <th>3</th>\n",
       "      <td>148:28:35</td>\n",
       "      <td>332:0:14</td>\n",
       "      <td>Работа</td>\n",
       "      <td>Авто</td>\n",
       "      <td>47</td>\n",
       "      <td>/NC/examples/08_01.nc</td>\n",
       "      <td>0</td>\n",
       "    </tr>\n",
       "    <tr>\n",
       "      <th>4</th>\n",
       "      <td>148:28:38</td>\n",
       "      <td>332:0:17</td>\n",
       "      <td>Работа</td>\n",
       "      <td>Авто</td>\n",
       "      <td>47</td>\n",
       "      <td>/NC/examples/08_01.nc</td>\n",
       "      <td>0</td>\n",
       "    </tr>\n",
       "    <tr>\n",
       "      <th>...</th>\n",
       "      <td>...</td>\n",
       "      <td>...</td>\n",
       "      <td>...</td>\n",
       "      <td>...</td>\n",
       "      <td>...</td>\n",
       "      <td>...</td>\n",
       "      <td>...</td>\n",
       "    </tr>\n",
       "    <tr>\n",
       "      <th>7491</th>\n",
       "      <td>154:54:58</td>\n",
       "      <td>337:19:13</td>\n",
       "      <td>Готов</td>\n",
       "      <td>Авто</td>\n",
       "      <td>100</td>\n",
       "      <td>NaN</td>\n",
       "      <td>0</td>\n",
       "    </tr>\n",
       "    <tr>\n",
       "      <th>7492</th>\n",
       "      <td>154:55:1</td>\n",
       "      <td>337:19:14</td>\n",
       "      <td>Работа</td>\n",
       "      <td>Авто</td>\n",
       "      <td>99</td>\n",
       "      <td>/NC/examples/06_07.nc</td>\n",
       "      <td>0</td>\n",
       "    </tr>\n",
       "    <tr>\n",
       "      <th>7493</th>\n",
       "      <td>154:55:4</td>\n",
       "      <td>337:19:14</td>\n",
       "      <td>Останов</td>\n",
       "      <td>Авто</td>\n",
       "      <td>100</td>\n",
       "      <td>NaN</td>\n",
       "      <td>0</td>\n",
       "    </tr>\n",
       "    <tr>\n",
       "      <th>7494</th>\n",
       "      <td>154:55:7</td>\n",
       "      <td>337:19:14</td>\n",
       "      <td>Останов</td>\n",
       "      <td>Авто</td>\n",
       "      <td>100</td>\n",
       "      <td>NaN</td>\n",
       "      <td>0</td>\n",
       "    </tr>\n",
       "    <tr>\n",
       "      <th>7495</th>\n",
       "      <td>154:55:10</td>\n",
       "      <td>337:19:14</td>\n",
       "      <td>Останов</td>\n",
       "      <td>Авто</td>\n",
       "      <td>100</td>\n",
       "      <td>NaN</td>\n",
       "      <td>0</td>\n",
       "    </tr>\n",
       "  </tbody>\n",
       "</table>\n",
       "<p>6010 rows × 7 columns</p>\n",
       "</div>"
      ],
      "text/plain": [
       "     core_cur_work_time ch_tot_work_time ch_status ch_mode  progr_progress  \\\n",
       "0             148:28:26          332:0:5    Работа    Авто              32   \n",
       "1             148:28:29          332:0:8    Работа    Авто              47   \n",
       "2             148:28:31         332:0:10    Работа    Авто              47   \n",
       "3             148:28:35         332:0:14    Работа    Авто              47   \n",
       "4             148:28:38         332:0:17    Работа    Авто              47   \n",
       "...                 ...              ...       ...     ...             ...   \n",
       "7491          154:54:58        337:19:13     Готов    Авто             100   \n",
       "7492           154:55:1        337:19:14    Работа    Авто              99   \n",
       "7493           154:55:4        337:19:14   Останов    Авто             100   \n",
       "7494           154:55:7        337:19:14   Останов    Авто             100   \n",
       "7495          154:55:10        337:19:14   Останов    Авто             100   \n",
       "\n",
       "                       prog  has_error  \n",
       "0     /NC/examples/08_01.nc          0  \n",
       "1     /NC/examples/08_01.nc          0  \n",
       "2     /NC/examples/08_01.nc          0  \n",
       "3     /NC/examples/08_01.nc          0  \n",
       "4     /NC/examples/08_01.nc          0  \n",
       "...                     ...        ...  \n",
       "7491                    NaN          0  \n",
       "7492  /NC/examples/06_07.nc          0  \n",
       "7493                    NaN          0  \n",
       "7494                    NaN          0  \n",
       "7495                    NaN          0  \n",
       "\n",
       "[6010 rows x 7 columns]"
      ]
     },
     "execution_count": 41,
     "metadata": {},
     "output_type": "execute_result"
    }
   ],
   "source": [
    "df"
   ]
  },
  {
   "cell_type": "code",
   "execution_count": 52,
   "id": "e5a80245-7c2a-4bee-82f1-f90005e1525e",
   "metadata": {},
   "outputs": [
    {
     "data": {
      "image/png": "[encoded data removed]",
      "text/plain": [
       "<Figure size 1000x500 with 1 Axes>"
      ]
     },
     "metadata": {},
     "output_type": "display_data"
    }
   ],
   "source": [
    "status_counts = df['ch_status'].value_counts()\n",
    "most_common_status = status_counts.idxmax()\n",
    "\n",
    "plt.figure(figsize=(10, 5))\n",
    "status_counts.plot(kind='bar')\n",
    "plt.title('Статус по времени')\n",
    "plt.xlabel('статус')\n",
    "plt.ylabel('Частота')\n",
    "plt.xticks(rotation=0)\n",
    "plt.tight_layout()\n",
    "plt.show()"
   ]
  },
  {
   "cell_type": "code",
   "execution_count": 44,
   "id": "f5037ac0-1339-44a8-a05d-afd827ababd9",
   "metadata": {},
   "outputs": [],
   "source": [
    "program_counts = df['prog'].value_counts()\n",
    "most_common_program = program_counts.idxmax()"
   ]
  },
  {
   "cell_type": "code",
   "execution_count": 50,
   "id": "d8a8bb13-39c6-438b-aa0d-74c1863ad6f8",
   "metadata": {},
   "outputs": [
    {
     "data": {
      "text/plain": [
       "'/NC/examples/05_17.nc'"
      ]
     },
     "execution_count": 50,
     "metadata": {},
     "output_type": "execute_result"
    }
   ],
   "source": [
    "most_common_program"
   ]
  },
  {
   "cell_type": "code",
   "execution_count": 46,
   "id": "ae0a3f7e-f7f8-456c-af75-9fa39f10e7bd",
   "metadata": {},
   "outputs": [],
   "source": [
    "mode_counts = df['ch_mode'].value_counts()\n",
    "most_common_mode = mode_counts.idxmax()"
   ]
  },
  {
   "cell_type": "code",
   "execution_count": 51,
   "id": "c92100d4-c433-4fe4-9c93-9211cb2f5e9c",
   "metadata": {},
   "outputs": [
    {
     "data": {
      "image/png": "[encoded data removed]",
      "text/plain": [
       "<Figure size 1000x500 with 1 Axes>"
      ]
     },
     "metadata": {},
     "output_type": "display_data"
    }
   ],
   "source": [
    "plt.figure(figsize=(10, 5))\n",
    "mode_counts.plot(kind='bar')\n",
    "plt.title('Наиболее частый мод')\n",
    "plt.xlabel('Мод')\n",
    "plt.ylabel('Частота')\n",
    "plt.xticks(rotation=45)\n",
    "plt.tight_layout()\n",
    "plt.show()"
   ]
  },
  {
   "cell_type": "code",
   "execution_count": 53,
   "id": "2e7f8a62-2a8f-4e9d-9547-0c12a644c5cb",
   "metadata": {},
   "outputs": [],
   "source": [
    "online_count = (df['ch_status'] == 'Работа').sum()\n",
    "offline_count = (df['ch_status'] == 'Останов').sum()"
   ]
  },
  {
   "cell_type": "code",
   "execution_count": 56,
   "id": "328e8c4f-028d-4d0e-865d-289c286927d0",
   "metadata": {},
   "outputs": [
    {
     "data": {
      "text/plain": [
       "86.56666666666666"
      ]
     },
     "execution_count": 56,
     "metadata": {},
     "output_type": "execute_result"
    }
   ],
   "source": [
    "online_count/60"
   ]
  },
  {
   "cell_type": "code",
   "execution_count": 57,
   "id": "88485565-8644-4d5c-aae0-1cfbd0bcc095",
   "metadata": {},
   "outputs": [
    {
     "data": {
      "text/plain": [
       "10.3"
      ]
     },
     "execution_count": 57,
     "metadata": {},
     "output_type": "execute_result"
    }
   ],
   "source": [
    "offline_count/60"
   ]
  },
  {
   "cell_type": "code",
   "execution_count": 58,
   "id": "39db9d65-0224-42c4-8b24-be63b5ff2e93",
   "metadata": {},
   "outputs": [
    {
     "data": {
      "text/html": [
       "<div>\n",
       "<style scoped>\n",
       "    .dataframe tbody tr th:only-of-type {\n",
       "        vertical-align: middle;\n",
       "    }\n",
       "\n",
       "    .dataframe tbody tr th {\n",
       "        vertical-align: top;\n",
       "    }\n",
       "\n",
       "    .dataframe thead th {\n",
       "        text-align: right;\n",
       "    }\n",
       "</style>\n",
       "<table border=\"1\" class=\"dataframe\">\n",
       "  <thead>\n",
       "    <tr style=\"text-align: right;\">\n",
       "      <th></th>\n",
       "      <th>core_cur_work_time</th>\n",
       "      <th>ch_tot_work_time</th>\n",
       "      <th>ch_status</th>\n",
       "      <th>ch_mode</th>\n",
       "      <th>progr_progress</th>\n",
       "      <th>prog</th>\n",
       "      <th>has_error</th>\n",
       "    </tr>\n",
       "  </thead>\n",
       "  <tbody>\n",
       "  </tbody>\n",
       "</table>\n",
       "</div>"
      ],
      "text/plain": [
       "Empty DataFrame\n",
       "Columns: [core_cur_work_time, ch_tot_work_time, ch_status, ch_mode, progr_progress, prog, has_error]\n",
       "Index: []"
      ]
     },
     "execution_count": 58,
     "metadata": {},
     "output_type": "execute_result"
    }
   ],
   "source": [
    "df[df['has_error'] == 1]"
   ]
  },
  {
   "cell_type": "code",
   "execution_count": null,
   "id": "c75aa2a3-4d3c-4e66-9947-26797ae61ae8",
   "metadata": {},
   "outputs": [],
   "source": []
  }
 ],
 "metadata": {
  "kernelspec": {
   "display_name": "Python 3 (ipykernel)",
   "language": "python",
   "name": "python3"
  },
  "language_info": {
   "codemirror_mode": {
    "name": "ipython",
    "version": 3
   },
   "file_extension": ".py",
   "mimetype": "text/x-python",
   "name": "python",
   "nbconvert_exporter": "python",
   "pygments_lexer": "ipython3",
   "version": "3.11.5"
  }
 },
 "nbformat": 4,
 "nbformat_minor": 5
}
